{
 "cells": [
  {
   "cell_type": "markdown",
   "id": "1035c1db",
   "metadata": {},
   "source": [
    "1. In the below elements which of them are values or an expression? eg:- values can be integer or string and expressions will be mathematical operators.\n",
    "\n",
    "\n",
    "* --------Expression\n",
    "'hello' --Value\n",
    "-87.8 ----Value\n",
    "- --------Expression\n",
    "/ --------Expression\n",
    "+ --------Expression\t\n",
    "6 --------Value\n",
    "\n"
   ]
  },
  {
   "cell_type": "markdown",
   "id": "2c10389d",
   "metadata": {},
   "source": [
    "2. What is the difference between string and variable?\n",
    "\n",
    "String - String is a type of variable that is always represented within double quotes or single quotes.\n",
    "\n",
    "Variable - Variable is a name or identifier that holds value. It refers to the memory location."
   ]
  },
  {
   "cell_type": "markdown",
   "id": "9adcacee",
   "metadata": {},
   "source": [
    "3. Describe three different data types.\n",
    "\n",
    "Numeric Data Type - Holds Integer, float and/or complex numbers\n",
    "String Data Type - Holds a sequence of characters mentioned within single or double quotes.\n",
    "Boolean Data Type - Holds True (0) or False (1) Values."
   ]
  },
  {
   "cell_type": "markdown",
   "id": "11cb4478",
   "metadata": {},
   "source": [
    "4. What is an expression made up of? What do all expressions do?\n",
    "\n",
    "Expression is made up of variable, constants and operators. An expression must have atleast one operand(variable or constant) and one or more operators (=,-,*,/, etc...).\n",
    "\n",
    "All Expressions when evaluated represents a value."
   ]
  },
  {
   "cell_type": "markdown",
   "id": "1d42a10b",
   "metadata": {},
   "source": [
    "5. This assignment statements, like spam = 10. What is the difference between an expression and a statement?\n",
    "\n",
    "Expression is a combination of variable, constants and operators . It always returns a value\n",
    "Assignment statements are where a value is assigned to a variable. Statements never return values."
   ]
  },
  {
   "cell_type": "markdown",
   "id": "125bb81d",
   "metadata": {},
   "source": [
    "6. After running the following code, what does the variable bacon contain?\n",
    "bacon = 22\n",
    "bacon + 1\n",
    "\n",
    "23"
   ]
  },
  {
   "cell_type": "markdown",
   "id": "50ddbd1a",
   "metadata": {},
   "source": [
    "7. What should the values of the following two terms be?\n",
    "\n",
    "'spam' + 'spamspam'---------spamspamspam\n",
    "'spam' * 3------------------spamspamspam"
   ]
  },
  {
   "cell_type": "markdown",
   "id": "f0710b9b",
   "metadata": {},
   "source": [
    "8. Why is eggs a valid variable name while 100 is invalid?\n",
    "\n",
    "Variable name is never allowed to start with an integer. Therefore Python Parser allows egg as a valid variable name and 100(since starting with integer) is not allowed formally. "
   ]
  },
  {
   "cell_type": "markdown",
   "id": "40998fb2",
   "metadata": {},
   "source": [
    "9. What three functions can be used to get the integer, floating-point number, or string version of a value?\n",
    "\n",
    "To get Integer version of value --------------------int()\n",
    "To get Floating point number version of value ------float()\n",
    "To get String version of value ---------------------str()"
   ]
  },
  {
   "cell_type": "markdown",
   "id": "d5fc49ac",
   "metadata": {},
   "source": [
    "10. Why does this expression cause an error? How can you fix it?\n",
    "'I have eaten ' + 99 + ' burritos.'\n",
    "\n",
    "This gives an error because only strings can be concatenated and 99 is an integer.\n",
    "To fix this, we need to typecast the integer value of 99 as a string value as mentioned below.\n",
    "'I have eaten ' + str(99) + ' burritos.'\n",
    "Output after Typecasting  :'I have eaten 99 burritos.'"
   ]
  }
 ],
 "metadata": {
  "kernelspec": {
   "display_name": "Python 3 (ipykernel)",
   "language": "python",
   "name": "python3"
  },
  "language_info": {
   "codemirror_mode": {
    "name": "ipython",
    "version": 3
   },
   "file_extension": ".py",
   "mimetype": "text/x-python",
   "name": "python",
   "nbconvert_exporter": "python",
   "pygments_lexer": "ipython3",
   "version": "3.9.7"
  }
 },
 "nbformat": 4,
 "nbformat_minor": 5
}
