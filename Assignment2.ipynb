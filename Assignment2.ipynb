{
 "cells": [
  {
   "cell_type": "markdown",
   "id": "a26a76af",
   "metadata": {},
   "source": [
    "1. What are the two values of the Boolean data type? How do you write them?\n",
    "\n",
    "The two values of Boolean data type are True and False. They are written by having the first letter as uppercase and the remaining in lower case."
   ]
  },
  {
   "cell_type": "markdown",
   "id": "ab39bba4",
   "metadata": {},
   "source": [
    "2. What are the three different types of Boolean operators?\n",
    "\n",
    "The three diffrent types of Boolean operators are and, or and not.\n",
    "\n",
    "and - Returns True if both of the operands are True, otherwise False.\n",
    "\n",
    "or- Returns True if either one or both of the operands are True, otherwise False.\n",
    "\n",
    "not -Returns True if given expression or operand is False and Vice-Versa."
   ]
  },
  {
   "cell_type": "markdown",
   "id": "1e7ef16f",
   "metadata": {},
   "source": [
    "3. Make a list of each Boolean operator's truth tables (i.e. every possible combination of Boolean values for the operator and what it evaluate ).\n",
    "\n",
    "and Boolean Operator Truth Table\n",
    "\n",
    "    I1         I2             Output    \n",
    "    False      False          False\n",
    "    False      True           False\n",
    "    True       False          False\n",
    "    True       True           True\n",
    "    \n",
    "or Boolean Operator Truth Table\n",
    "\n",
    "    I1         I2             Output\n",
    "    False      False          False\n",
    "    False      True           True\n",
    "    True       False          True\n",
    "    True       True           True\n",
    "    \n",
    "not Boolean Operator Truth Table\n",
    "\n",
    "    I1         Output\n",
    "    False      True\n",
    "    True       False\n",
    "    \n",
    "The same can be represented by 0 and 1 , where 0 represents False and 1 represents True."
   ]
  },
  {
   "cell_type": "code",
   "execution_count": 1,
   "id": "0e4880f6",
   "metadata": {},
   "outputs": [
    {
     "name": "stdout",
     "output_type": "stream",
     "text": [
      "AND Truth Table\n",
      " A  B AandB\n",
      "[0, 0, 0]\n",
      "[0, 1, 0]\n",
      "[1, 0, 0]\n",
      "[1, 1, 1]\n",
      "OR Truth Table\n",
      " A  B  AorB\n",
      "[0, 0, 0]\n",
      "[0, 1, 1]\n",
      "[1, 0, 1]\n",
      "[1, 1, 1]\n",
      "NOT Truth Table\n",
      " A NotA\n",
      "[0, 1]\n",
      "[1, 0]\n"
     ]
    }
   ],
   "source": [
    "and_truth_table=[[0,0,0],[0,1,0],[1,0,0],[1,1,1]]\n",
    "\n",
    "print(\"AND Truth Table\")\n",
    "print(\" A  B AandB\")\n",
    "for i in and_truth_table:\n",
    "    print(i)\n",
    "or_truth_table=[[0,0,0],[0,1,1],[1,0,1],[1,1,1]]\n",
    "\n",
    "print (\"OR Truth Table\")\n",
    "print (\" A  B  AorB\")\n",
    "for i in or_truth_table:\n",
    "    print(i)\n",
    "not_truth_table=[[0,1],[1,0]]\n",
    "\n",
    "print (\"NOT Truth Table\")\n",
    "print (\" A NotA\")\n",
    "for i in not_truth_table:\n",
    "    print(i)"
   ]
  },
  {
   "cell_type": "code",
   "execution_count": 2,
   "id": "d4cdc988",
   "metadata": {},
   "outputs": [
    {
     "name": "stdout",
     "output_type": "stream",
     "text": [
      "Truth Table FOR AND, OR & NOT\n",
      "I1 I2 AND OR NOT(I1)\n",
      "[0, 0] 0 0 True\n",
      "[0, 1] 0 1 True\n",
      "[1, 0] 0 1 False\n",
      "[1, 1] 1 1 False\n"
     ]
    }
   ],
   "source": [
    "A=[0,0]\n",
    "B=[0,1]\n",
    "C=[1,0]\n",
    "D=[1,1]\n",
    "print(\"Truth Table FOR AND, OR & NOT\")\n",
    "print(\"I1 I2 AND OR NOT(I1)\")\n",
    "print(  A,A[0] and A[1],A[0] or A[1],not A[0])\n",
    "print(  B,B[0] and B[1],B[0] or B[1],not B[0])\n",
    "print(  C,C[0] and C[1],C[0] or C[1],not C[0])\n",
    "print(  D,D[0] and D[1],D[0] or D[1],not D[0])"
   ]
  },
  {
   "cell_type": "markdown",
   "id": "0cd32e7c",
   "metadata": {},
   "source": [
    "4. What are the values of the following expressions?\n",
    "(5 > 4) and (3 == 5) ----------------------------------------- False\n",
    "not (5 > 4) -------------------------------------------------- False\n",
    "(5 > 4) or (3 == 5)------------------------------------------- True \n",
    "not ((5 > 4) or (3 == 5)) ------------------------------------ False\n",
    "(True and True) and (True == False)--------------------------- False\n",
    "(not False) or (not True)------------------------------------- True"
   ]
  },
  {
   "cell_type": "markdown",
   "id": "0a6ac03b",
   "metadata": {},
   "source": [
    "5. What are the six comparison operators?\n",
    "\n",
    "The six comaprison operators are == , != , <> , > , < , >= , <=\n",
    "\n",
    "== If the values of two operands are equal, then the condition becomes true.\n",
    "!= If values of two operands are not equal, then condition becomes true.\n",
    "<> If values of two operands are not equal, then condition becomes true.\n",
    ">  If the value of left operand is greater than the value of right operand, then condition becomes true.\n",
    "<  If the value of left operand is less than the value of right operand, then condition becomes true.\n",
    ">= If the value of left operand is greater than or equal to the value of right operand, then condition becomes true.\n",
    "<= If the value of left operand is less than or equal to the value of right operand, then condition becomes true."
   ]
  },
  {
   "cell_type": "markdown",
   "id": "bd478ec0",
   "metadata": {},
   "source": [
    "6. How do you tell the difference between the equal to and assignment operators?Describe a condition and when you would use one.\n",
    "\n",
    "Assignment (=)Operator :\n",
    "It is an assignment operator that is used for assigning the value to a variable.\n",
    "Constant term cannot be placed on left hand side.\n",
    "\n",
    "Example:6=h; is invalid.\n",
    "\n",
    "Equal to (=) Operator :\n",
    "It is a relational or comparison operator\n",
    "It is used for comparing two values. It returns 1 if both the values are equal otherwise returns 0.\n",
    "Constant term can be placed in the left hand side\n",
    "\n",
    "Example: 6==6 is valid and returns 1.\n",
    "\n",
    "Example :\n",
    "\n",
    "x=30\n",
    "y=10\n",
    "\n",
    "if x==y:\n",
    "    print(\"True\")\n",
    "else:\n",
    "    print(\"False\")\n",
    "    \n",
    "Output is False."
   ]
  },
  {
   "cell_type": "markdown",
   "id": "928a130a",
   "metadata": {},
   "source": [
    "7. Identify the three blocks in this code:\n",
    "spam = 0\n",
    "if spam == 10:\n",
    "print('eggs')--------Block 1\n",
    "if spam > 5:\n",
    "print('bacon')-------Block 2\n",
    "else:\n",
    "print('ham')---------Block 3\n",
    "print('spam')\n",
    "print('spam')"
   ]
  },
  {
   "cell_type": "code",
   "execution_count": 3,
   "id": "5112b9b3",
   "metadata": {},
   "outputs": [
    {
     "name": "stdout",
     "output_type": "stream",
     "text": [
      "ham\n",
      "spam\n",
      "spam\n"
     ]
    }
   ],
   "source": [
    "spam = 0\n",
    "if spam == 10:\n",
    "    print('eggs')\n",
    "if spam > 5:\n",
    "    print('bacon')\n",
    "else:\n",
    "    print('ham')\n",
    "    print('spam')\n",
    "    print('spam')"
   ]
  },
  {
   "cell_type": "markdown",
   "id": "aca275a6",
   "metadata": {},
   "source": [
    "8. Write code that prints Hello if 1 is stored in spam, prints Howdy if 2 is stored in spam, and prints Greetings! if anything else is stored in spam."
   ]
  },
  {
   "cell_type": "code",
   "execution_count": 4,
   "id": "9d47d45d",
   "metadata": {},
   "outputs": [
    {
     "name": "stdout",
     "output_type": "stream",
     "text": [
      "Enter a value1\n",
      "Hello\n"
     ]
    }
   ],
   "source": [
    "spam = int (input('Enter a value'))\n",
    "if spam == 1:\n",
    "    print(\"Hello\")\n",
    "elif spam == 2:\n",
    "    print(\"Howdy\")\n",
    "else :\n",
    "    print(\"Greetings!\")"
   ]
  },
  {
   "cell_type": "code",
   "execution_count": 5,
   "id": "de3ffc72",
   "metadata": {},
   "outputs": [
    {
     "name": "stdout",
     "output_type": "stream",
     "text": [
      "Enter a value2\n",
      "Howdy\n"
     ]
    }
   ],
   "source": [
    "spam = int (input('Enter a value'))\n",
    "if spam == 1:\n",
    "    print(\"Hello\")\n",
    "elif spam == 2:\n",
    "    print(\"Howdy\")\n",
    "else :\n",
    "    print(\"Greetings!\")"
   ]
  },
  {
   "cell_type": "code",
   "execution_count": 6,
   "id": "50c21402",
   "metadata": {},
   "outputs": [
    {
     "name": "stdout",
     "output_type": "stream",
     "text": [
      "Enter a value3\n",
      "Greetings!\n"
     ]
    }
   ],
   "source": [
    "spam = int (input('Enter a value'))\n",
    "if spam == 1:\n",
    "    print(\"Hello\")\n",
    "elif spam == 2:\n",
    "    print(\"Howdy\")\n",
    "else :\n",
    "    print(\"Greetings!\")"
   ]
  },
  {
   "cell_type": "markdown",
   "id": "87dee088",
   "metadata": {},
   "source": [
    "9. If your programme is stuck in an endless loop, what keys you’ll press?\n",
    "\n",
    "If the programme is stuck in an endless loop we will have to press Ctrl+C to exit from the loop."
   ]
  },
  {
   "cell_type": "markdown",
   "id": "96081579",
   "metadata": {},
   "source": [
    "10. How can you tell the difference between break and continue?\n",
    "\n",
    "Break Statement : \n",
    "Break statement is used to exit or “break” a 'for' or 'while' conditional loop. When the loop ends, the code resumes executing the next line immediately following the broken loop.\n",
    "\n",
    "Continue Statement:\n",
    "The continue statement is used to reject code within a loop for certain iterations of the loop. After the code is rejected for certain iterations, the remaining line of codes are skipped and the control is moved back to the top of the loop."
   ]
  },
  {
   "cell_type": "code",
   "execution_count": 7,
   "id": "9af86344",
   "metadata": {},
   "outputs": [
    {
     "name": "stdout",
     "output_type": "stream",
     "text": [
      "Current Letter :  I\n",
      "Current Letter :  n\n",
      "Current Letter :  e\n",
      "Current Letter :  u\n"
     ]
    }
   ],
   "source": [
    "#Example for break\n",
    "for letter in 'Ineuron':\n",
    "    if letter=='r':\n",
    "        break\n",
    "    print ('Current Letter : ',letter)"
   ]
  },
  {
   "cell_type": "code",
   "execution_count": 8,
   "id": "bd60d707",
   "metadata": {},
   "outputs": [
    {
     "name": "stdout",
     "output_type": "stream",
     "text": [
      "Current Letter :  I\n",
      "Current Letter :  n\n",
      "Current Letter :  e\n",
      "Current Letter :  u\n",
      "Current Letter :  o\n",
      "Current Letter :  n\n"
     ]
    }
   ],
   "source": [
    "#Example for continue\n",
    "for letter in 'Ineuron':\n",
    "    if letter=='r':\n",
    "        continue\n",
    "    print ('Current Letter : ',letter)"
   ]
  },
  {
   "cell_type": "markdown",
   "id": "a61da0ff",
   "metadata": {},
   "source": [
    "11. In a for loop, what is the difference between range(10), range(0, 10), and range(0, 10, 1)?\n",
    "\n",
    "There is no diffrence between range(10), range(0,10) and range(0,10,1) as all these inputs yields the same output. The increment is by default 1 and starting point by default is 0."
   ]
  },
  {
   "cell_type": "code",
   "execution_count": 9,
   "id": "396bf007",
   "metadata": {},
   "outputs": [
    {
     "name": "stdout",
     "output_type": "stream",
     "text": [
      "0\n",
      "1\n",
      "2\n",
      "3\n",
      "4\n",
      "5\n",
      "6\n",
      "7\n",
      "8\n",
      "9\n"
     ]
    }
   ],
   "source": [
    "for i in range(10):\n",
    "    print(i)"
   ]
  },
  {
   "cell_type": "code",
   "execution_count": 10,
   "id": "7d83c4ba",
   "metadata": {},
   "outputs": [
    {
     "name": "stdout",
     "output_type": "stream",
     "text": [
      "0\n",
      "1\n",
      "2\n",
      "3\n",
      "4\n",
      "5\n",
      "6\n",
      "7\n",
      "8\n",
      "9\n"
     ]
    }
   ],
   "source": [
    "for i in range(0,10):\n",
    "    print(i)"
   ]
  },
  {
   "cell_type": "code",
   "execution_count": 11,
   "id": "4c892030",
   "metadata": {},
   "outputs": [
    {
     "name": "stdout",
     "output_type": "stream",
     "text": [
      "0\n",
      "1\n",
      "2\n",
      "3\n",
      "4\n",
      "5\n",
      "6\n",
      "7\n",
      "8\n",
      "9\n"
     ]
    }
   ],
   "source": [
    "for i in range(0,10,1):\n",
    "    print (i)"
   ]
  },
  {
   "cell_type": "markdown",
   "id": "a85234bc",
   "metadata": {},
   "source": [
    "12. Write a short program that prints the numbers 1 to 10 using a for loop. Then write an equivalent program that prints the numbers 1 to 10 using a while loop."
   ]
  },
  {
   "cell_type": "code",
   "execution_count": 12,
   "id": "a24259d8",
   "metadata": {},
   "outputs": [
    {
     "name": "stdout",
     "output_type": "stream",
     "text": [
      "1\n",
      "2\n",
      "3\n",
      "4\n",
      "5\n",
      "6\n",
      "7\n",
      "8\n",
      "9\n",
      "10\n"
     ]
    }
   ],
   "source": [
    "for i in range (1,11):\n",
    "    print(i)"
   ]
  },
  {
   "cell_type": "code",
   "execution_count": 15,
   "id": "eb2a6fe4",
   "metadata": {},
   "outputs": [
    {
     "name": "stdout",
     "output_type": "stream",
     "text": [
      "1\n",
      "2\n",
      "3\n",
      "4\n",
      "5\n",
      "6\n",
      "7\n",
      "8\n",
      "9\n",
      "10\n"
     ]
    }
   ],
   "source": [
    "i = 1\n",
    "while i <=10:\n",
    "    print(i)\n",
    "    i=i+1"
   ]
  },
  {
   "cell_type": "markdown",
   "id": "74ee8db1",
   "metadata": {},
   "source": [
    "13. If you had a function named bacon() inside a module named spam, how would you call it after importing spam?\n",
    "\n",
    "To import a module spam and call the function named bacon inside it :\n",
    "import spam\n",
    "A=spam.bacon()"
   ]
  }
 ],
 "metadata": {
  "kernelspec": {
   "display_name": "Python 3 (ipykernel)",
   "language": "python",
   "name": "python3"
  },
  "language_info": {
   "codemirror_mode": {
    "name": "ipython",
    "version": 3
   },
   "file_extension": ".py",
   "mimetype": "text/x-python",
   "name": "python",
   "nbconvert_exporter": "python",
   "pygments_lexer": "ipython3",
   "version": "3.9.7"
  }
 },
 "nbformat": 4,
 "nbformat_minor": 5
}
