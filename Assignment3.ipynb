{
 "cells": [
  {
   "cell_type": "markdown",
   "id": "38d7ca9e",
   "metadata": {},
   "source": [
    "1. Why are functions advantageous to have in your programs?\n",
    "Functions helps in breaking the program into smaller parts to make it more organized and manageable. Also use of function makes the code reusbale."
   ]
  },
  {
   "cell_type": "markdown",
   "id": "47d64ccd",
   "metadata": {},
   "source": [
    "2. When does the code in a function run: when it's specified or when it's called?\n",
    "The code in the function runs when its called and not when its specified."
   ]
  },
  {
   "cell_type": "markdown",
   "id": "f1517c2a",
   "metadata": {},
   "source": [
    "3. What statement creates a function?\n",
    "The define statement (def) creates a function.\n",
    "E.g. def sum (arg1,arg2):\n",
    "     total = arg1 + arg2\n",
    "     print (\"Sum of two inputs : \", total)\n",
    "     return total;"
   ]
  },
  {
   "cell_type": "markdown",
   "id": "f6143041",
   "metadata": {},
   "source": [
    "4. What is the difference between a function and a function call?\n",
    "Function is a block of code to perform a certain defined Task which will not yield any output unless called. Function call executes the block of code for a given input and returns the desired task output."
   ]
  },
  {
   "cell_type": "markdown",
   "id": "ac226315",
   "metadata": {},
   "source": [
    "5. How many global scopes are there in a Python program? How many local scopes?\n",
    "A python program can have only one global scope whereas local scope depends on the number of time the function gets called."
   ]
  },
  {
   "cell_type": "markdown",
   "id": "a7ffe169",
   "metadata": {},
   "source": [
    "6. What happens to variables in a local scope when the function call returns?\n",
    "When a function call returns, the local scope is destroyed, and all the variables in it are forgotten. We will not be able to access outside the function."
   ]
  },
  {
   "cell_type": "markdown",
   "id": "c572dbbe",
   "metadata": {},
   "source": [
    "7. What is the concept of a return value? Is it possible to have a return value in an expression?\n",
    "A return statement is used to end the execution of the function call and returns the result (value of the expression following the return keyword) to the caller.Like any value, a return value can be used as part of an expression."
   ]
  },
  {
   "cell_type": "markdown",
   "id": "a04d939f",
   "metadata": {},
   "source": [
    "8. If a function does not have a return statement, what is the return value of a call to that function?\n",
    "If a function doesnt have a return statement, then the return value is by default None."
   ]
  },
  {
   "cell_type": "markdown",
   "id": "e538af1c",
   "metadata": {},
   "source": [
    "9. How do you make a function variable refer to the global variable?\n",
    "A global statement will force a variable in a function to refer to the global variable. If you want to refer to a global variable in a function, you can use the global keyword to declare which variables are global."
   ]
  },
  {
   "cell_type": "markdown",
   "id": "4a30cd9d",
   "metadata": {},
   "source": [
    "10. What is the data type of None?\n",
    "The data type of None is NoneType."
   ]
  },
  {
   "cell_type": "markdown",
   "id": "7bfc1c23",
   "metadata": {},
   "source": [
    "11. What does the sentence import areallyourpetsnamederic do?\n",
    "That import statement imports a module named areallyourpetsnamederic."
   ]
  },
  {
   "cell_type": "markdown",
   "id": "d074f09b",
   "metadata": {},
   "source": [
    "12. If you had a bacon() feature in a spam module, what would you call it after importing spam?\n",
    "The function can be called as spam.bacon()"
   ]
  },
  {
   "cell_type": "markdown",
   "id": "5d151db2",
   "metadata": {},
   "source": [
    "13. What can you do to save a programme from crashing if it encounters an error?\n",
    "We can place the line of code that might cause an error in a try clause and use except block to handle the error"
   ]
  },
  {
   "cell_type": "markdown",
   "id": "cf539614",
   "metadata": {},
   "source": [
    "14. What is the purpose of the try clause? What is the purpose of the except clause?\n",
    "The try clause lets us test a block of code for errors and the except clause lets us handle the error."
   ]
  },
  {
   "cell_type": "code",
   "execution_count": 9,
   "id": "8dbaf3b2",
   "metadata": {},
   "outputs": [
    {
     "name": "stdout",
     "output_type": "stream",
     "text": [
      "An exception occurred\n"
     ]
    }
   ],
   "source": [
    "try:\n",
    "  print(a)\n",
    "except:\n",
    "  print(\"An exception occurred\")#a is not defined hence the exception"
   ]
  },
  {
   "cell_type": "code",
   "execution_count": null,
   "id": "5a3dd797",
   "metadata": {},
   "outputs": [],
   "source": []
  }
 ],
 "metadata": {
  "kernelspec": {
   "display_name": "Python 3 (ipykernel)",
   "language": "python",
   "name": "python3"
  },
  "language_info": {
   "codemirror_mode": {
    "name": "ipython",
    "version": 3
   },
   "file_extension": ".py",
   "mimetype": "text/x-python",
   "name": "python",
   "nbconvert_exporter": "python",
   "pygments_lexer": "ipython3",
   "version": "3.9.7"
  }
 },
 "nbformat": 4,
 "nbformat_minor": 5
}
