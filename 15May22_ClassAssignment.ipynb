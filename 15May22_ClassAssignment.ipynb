{
 "cells": [
  {
   "cell_type": "code",
   "execution_count": 9,
   "id": "bc921703",
   "metadata": {},
   "outputs": [],
   "source": [
    "s=\"this is My First Python programming class and i am learning python string and its function\""
   ]
  },
  {
   "cell_type": "code",
   "execution_count": 7,
   "id": "d1b49cd8",
   "metadata": {},
   "outputs": [
    {
     "data": {
      "text/plain": [
       "'h   r tnrrmgasnimengyosi dtfco'"
      ]
     },
     "execution_count": 7,
     "metadata": {},
     "output_type": "execute_result"
    }
   ],
   "source": [
    "#Try to extract data from index one to index 300 with a jump of 3 \n",
    "s[1:300:3]"
   ]
  },
  {
   "cell_type": "code",
   "execution_count": 3,
   "id": "87512fe4",
   "metadata": {},
   "outputs": [
    {
     "data": {
      "text/plain": [
       "'noitcnuf sti dna gnirts nohtyp gninrael ma i dna sslac gnimmargorp nohtyP tsriF yM si siht'"
      ]
     },
     "execution_count": 3,
     "metadata": {},
     "output_type": "execute_result"
    }
   ],
   "source": [
    "#Try to reverse a string without using reverse function \n",
    "s[::-1]"
   ]
  },
  {
   "cell_type": "code",
   "execution_count": 8,
   "id": "c2fdc468",
   "metadata": {},
   "outputs": [
    {
     "data": {
      "text/plain": [
       "['THIS',\n",
       " 'IS',\n",
       " 'MY',\n",
       " 'FIRST',\n",
       " 'PYTHON',\n",
       " 'PROGRAMMING',\n",
       " 'CALSS',\n",
       " 'AND',\n",
       " 'I',\n",
       " 'AM',\n",
       " 'LEARNING',\n",
       " 'PYTHON',\n",
       " 'STRING',\n",
       " 'AND',\n",
       " 'ITS',\n",
       " 'FUNCTION']"
      ]
     },
     "execution_count": 8,
     "metadata": {},
     "output_type": "execute_result"
    }
   ],
   "source": [
    "#Try to split a string after conversion of entire string in uppercase \n",
    "s=s.upper()\n",
    "s.split(' ')"
   ]
  },
  {
   "cell_type": "code",
   "execution_count": 5,
   "id": "864e21ea",
   "metadata": {},
   "outputs": [
    {
     "name": "stdout",
     "output_type": "stream",
     "text": [
      "this is my first python programming calss and i am learning python string and its function\n"
     ]
    }
   ],
   "source": [
    "#try to convert the whole string into lower case \n",
    "s=s.lower()\n",
    "print(s)"
   ]
  },
  {
   "cell_type": "code",
   "execution_count": 6,
   "id": "dcd31d37",
   "metadata": {},
   "outputs": [
    {
     "name": "stdout",
     "output_type": "stream",
     "text": [
      "This is my first python programming calss and i am learning python string and its function\n"
     ]
    }
   ],
   "source": [
    "#Try to capitalize the whole string \n",
    "s=s.capitalize()\n",
    "print(s)"
   ]
  },
  {
   "cell_type": "markdown",
   "id": "2d8cd3d0",
   "metadata": {},
   "source": [
    "# Write a diference between isalnum() and isalpha()\n",
    "isalnum() returns True if the input string is either alpha or numeric or alphanumeric whereas isalpha returns True only if the input string is alpha else it returns False."
   ]
  },
  {
   "cell_type": "code",
   "execution_count": 12,
   "id": "12860b2c",
   "metadata": {},
   "outputs": [
    {
     "data": {
      "text/plain": [
       "'        Data    science '"
      ]
     },
     "execution_count": 12,
     "metadata": {},
     "output_type": "execute_result"
    }
   ],
   "source": [
    "#Try to give an example of expand tab\n",
    "s1=\"\\tData\\tscience\\t\"\n",
    "s1.expandtabs()\n",
    "#Expandtabs function is used to expand all \\t by replacing it with a space wherever mentioned."
   ]
  },
  {
   "cell_type": "code",
   "execution_count": 15,
   "id": "97d6f76e",
   "metadata": {},
   "outputs": [
    {
     "name": "stdout",
     "output_type": "stream",
     "text": [
      "Strip function output is: Ineuron\n",
      "LStrip function output is: Ineuron \n",
      "RStrip function output is:  Ineuron\n"
     ]
    }
   ],
   "source": [
    "#Give an example of strip , lstrip and rstrip\n",
    "s2=\" Ineuron \"\n",
    "a= s2.strip()\n",
    "print(\"Strip function output is:\",a)\n",
    "b=s2.lstrip()\n",
    "print(\"LStrip function output is:\",b)\n",
    "c=s2.rstrip()\n",
    "print(\"RStrip function output is:\",c)"
   ]
  },
  {
   "cell_type": "code",
   "execution_count": 19,
   "id": "b329b6ba",
   "metadata": {},
   "outputs": [
    {
     "name": "stdout",
     "output_type": "stream",
     "text": [
      "Rashika is good\n"
     ]
    }
   ],
   "source": [
    "#Replace a string charecter by another charector by taking your own example \n",
    "s3=\"Reema is good\"\n",
    "d=s3.replace(\"Reema\",\"Rashika\")\n",
    "print(d)\n",
    "#Reema is replaced with Rashika"
   ]
  },
  {
   "cell_type": "code",
   "execution_count": 21,
   "id": "8d74a3e4",
   "metadata": {},
   "outputs": [
    {
     "name": "stdout",
     "output_type": "stream",
     "text": [
      "*******Reema********\n"
     ]
    }
   ],
   "source": [
    "#Try  to give a definition of string center function with an example\n",
    "s4=\"Reema\"\n",
    "e=s4.center(20,'*')\n",
    "print(e)\n",
    "#String center function is used to fill the input string in the center of the given width and the remaining space (front and back of the string) of total width is filled by the filling character that is provided."
   ]
  },
  {
   "cell_type": "markdown",
   "id": "516e7640",
   "metadata": {},
   "source": [
    "# Write your own definition of compiler and interpretor without copy paste form internet in your own language\n",
    "Compiler is something that translates human language into machine language (Boolean - 0's and 1's).\n",
    "Interpretor reads each line individually to execute it directly without the need of compilers to convert the code to machine language."
   ]
  },
  {
   "cell_type": "markdown",
   "id": "8692da58",
   "metadata": {},
   "source": [
    "# Python is a interpreted or compiled language give a clear ans with your understanding \n",
    "Python is a combination of both. It is a compiled interpreted language because it first reads the program syntax,compiles and stores the data in byte code format in memory. Later the interpreter accesses the byte code to execute it.(Python always executes the code line by line internally)"
   ]
  },
  {
   "cell_type": "markdown",
   "id": "185f132e",
   "metadata": {},
   "source": [
    "# Try to write a usecase of python with your understanding\n",
    "Python is used commonly in the following areas\n",
    "1. Web Application Development along with Django and Flask\n",
    "2. Data Science to extract the data and insight and visualize it with the help of Visualization tools\n",
    "3. Artificial Intelligince and Machine Learning since it is a secure and stable language that helps in advanced computing, data analytics, image recognition,  text & data processing\n",
    "4. Game Development by using libraries like Pygame"
   ]
  },
  {
   "cell_type": "code",
   "execution_count": null,
   "id": "9270db80",
   "metadata": {},
   "outputs": [],
   "source": []
  }
 ],
 "metadata": {
  "kernelspec": {
   "display_name": "Python 3 (ipykernel)",
   "language": "python",
   "name": "python3"
  },
  "language_info": {
   "codemirror_mode": {
    "name": "ipython",
    "version": 3
   },
   "file_extension": ".py",
   "mimetype": "text/x-python",
   "name": "python",
   "nbconvert_exporter": "python",
   "pygments_lexer": "ipython3",
   "version": "3.9.7"
  }
 },
 "nbformat": 4,
 "nbformat_minor": 5
}
